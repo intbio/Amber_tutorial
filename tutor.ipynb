{
 "cells": [
  {
   "cell_type": "markdown",
   "id": "f1464f10-f8c2-4bb6-95bf-ddf455f5125d",
   "metadata": {},
   "source": [
    "# Amber\n",
    "## 0.0. PDB file \n",
    "The tutorial was written for Amber v.2024. \n",
    "Firstly we need to download the pdb file of the structure of interest (https://www.rcsb.org/)"
   ]
  },
  {
   "cell_type": "code",
   "execution_count": null,
   "id": "f3f7c5b8-b3d8-4a72-aec0-a28dedb6ff2a",
   "metadata": {
    "tags": []
   },
   "outputs": [],
   "source": [
    "!wget https://files.rcsb.org/view/1KX5.pdb"
   ]
  },
  {
   "cell_type": "markdown",
   "id": "212a9b2a-30bd-4763-824d-4877cf12241a",
   "metadata": {},
   "source": [
    "We can make sure that the file is not empty by calling grep "
   ]
  },
  {
   "cell_type": "code",
   "execution_count": null,
   "id": "81280e47-2ea1-4281-bbf6-d2ea95298bf6",
   "metadata": {
    "tags": []
   },
   "outputs": [],
   "source": [
    "!grep '^ATOM' '1KX5.pdb'| head -n 10"
   ]
  },
  {
   "cell_type": "markdown",
   "id": "88efcd96-00ea-4b95-864d-dfaaff7a4ffa",
   "metadata": {},
   "source": [
    "The structure can be visualised by nglview"
   ]
  },
  {
   "cell_type": "code",
   "execution_count": null,
   "id": "906dd7c3-f011-4a54-b3a8-4278359735ab",
   "metadata": {
    "tags": []
   },
   "outputs": [],
   "source": [
    "#In presence with water\n",
    "import nglview as nv\n",
    "a=nv.show_structure_file('1KX5.pdb')\n",
    "a.add_representation(selection='water',repr_type='spacefill',color='red')\n",
    "a.render_image()\n",
    "a"
   ]
  },
  {
   "cell_type": "code",
   "execution_count": null,
   "id": "8130e505-5843-4fdd-82a8-b654e933bec5",
   "metadata": {
    "tags": []
   },
   "outputs": [],
   "source": [
    "#Without water\n",
    "import nglview as nv\n",
    "a=nv.show_structure_file('1KX5.pdb')\n",
    "a.render_image()\n",
    "a"
   ]
  },
  {
   "cell_type": "markdown",
   "id": "509d02f7-4dda-477d-b668-71d56144f86b",
   "metadata": {},
   "source": [
    "## 0.1. PDB File Preparation\n",
    "Amber works with formated files, so in order to run molecular dynamics, especially the tleap part, it is necessary to modify them. Here we use MDAnalysis library, but you also can try pdb4amber command (See https://ambermd.org/tutorials/basic/tutorial9/index.php)"
   ]
  },
  {
   "cell_type": "code",
   "execution_count": null,
   "id": "90a37836-6308-49b9-9369-bb6538d8ce82",
   "metadata": {
    "tags": []
   },
   "outputs": [],
   "source": [
    "#Rewrite each segid into different .pdb and merge them into modyfied sys.pdb \n",
    "\n",
    "import MDAnalysis as mda\n",
    "!mkdir prep\n",
    "!cd prep\n",
    "pdb = mda.Universe('1KX5.pdb').select_atoms('protein or nucleic').write('prep/sys.pdb')"
   ]
  },
  {
   "cell_type": "code",
   "execution_count": null,
   "id": "2c6bc6e3-c986-4d40-be87-ce83dfd1fc88",
   "metadata": {
    "tags": []
   },
   "outputs": [],
   "source": [
    "%%bash\n",
    "\n",
    "cd prep/\n",
    "\n",
    "grep '^ATOM' sys.pdb > sys_mod.pdb"
   ]
  },
  {
   "cell_type": "markdown",
   "id": "709e956d-2434-424c-9465-8d4cb2a2dc4a",
   "metadata": {},
   "source": [
    "## 1.0. Topology File Preparation\n",
    "In order to start a MD simulation you should preapre a topolopgy file from .pdb. It can be obtained by LEaP programm; firstly an operator choses a force field model and defines it in LEaP, after the programm generates two necessary files: topolgy file and coordinates file. To learn more about a content of each extension read information below https://ambermd.org/tutorials/pengfei/index.php  \n",
    "Structurally all leaprc. files are scripts: in case of ff14SB - the protein force field - tleap run also requiers supplemental information from .dat file, containing 'full' forcefield parameter information, and .ff14SB with an auxiliary parameter information, which is added when any conflict from .dat is obsereved. "
   ]
  },
  {
   "cell_type": "code",
   "execution_count": null,
   "id": "a3970d47-525f-43e4-a3e3-6050cd40872b",
   "metadata": {
    "tags": []
   },
   "outputs": [],
   "source": [
    "%%bash\n",
    "module load amber24\n",
    "dir $AMBERHOME/dat/leap/cmd/ #Here you can see a list of existing force fields\n",
    "sed -n '80,84p' $AMBERHOME/dat/leap/cmd/leaprc.protein.ff14SB #parm10.dat is an example of parameter file"
   ]
  },
  {
   "cell_type": "markdown",
   "id": "0db502bb-7f73-4abb-a892-c08102707ee0",
   "metadata": {},
   "source": [
    "Now we are ready to obtain required files! We will simulate the complex in opc water, using different force fields for DNA and proteins (bsc1, ff19SB, respectivelly). For this we will use leapt runner:"
   ]
  },
  {
   "cell_type": "code",
   "execution_count": null,
   "id": "dc65e5aa-5323-4fff-8bea-513d4f430383",
   "metadata": {},
   "outputs": [],
   "source": [
    "%%bash\n",
    "module load amber24\n",
    "\n",
    "tleap -h"
   ]
  },
  {
   "cell_type": "code",
   "execution_count": null,
   "id": "248c022a-4817-44fd-a249-b3940f3183e1",
   "metadata": {
    "tags": []
   },
   "outputs": [],
   "source": [
    "!cat scripts/creating_box/wo_ions.rc #the content of .rc script file"
   ]
  },
  {
   "cell_type": "markdown",
   "id": "4937a84b-e77e-49f3-b7d9-d1a296031971",
   "metadata": {},
   "source": [
    "Here the size of the box is regulated in solvateoct, ion aditions are written in addions section.\n",
    "Now let's run force field without setting ion concentrations:"
   ]
  },
  {
   "cell_type": "code",
   "execution_count": null,
   "id": "6931a331-109e-451e-a67a-a6d6be6c214b",
   "metadata": {},
   "outputs": [],
   "source": [
    "%%bash\n",
    "\n",
    "mkdir force_field\n",
    "cd force_field\n",
    "mkdir box_wo_kcl\n",
    "cd ..\n",
    "\n",
    "module load amber24\n",
    "\n",
    "tleap -s -f scripts/creating_box/wo_ions.rc # -s: programm will write a .log file; -f: file path"
   ]
  },
  {
   "cell_type": "markdown",
   "id": "9fc9ebba-4f6e-42c8-8b00-cf053e31d6fd",
   "metadata": {},
   "source": [
    "## 1.1. Topology file preparation: solvent parameters\n",
    "However, to perform further energy minimisation it is necessary to create an electro-neutral solution, otherwise in pereodic boundary conditions (PBE) it will lead to infinitely big electrostatic interactions between the structure and other grid's boxes. Moreover it will perturbate solvent molecules near the cture and therefore will generate non-intuitive free energy changes. For better accordance with desired salt concentrarion SLTCAP method is used (DOI: 10.1021/acs.jctc.7b01254)"
   ]
  },
  {
   "cell_type": "code",
   "execution_count": null,
   "id": "43732e98-ea9e-4748-a5f2-3b7435d9333c",
   "metadata": {},
   "outputs": [],
   "source": [
    "%%bash\n",
    "\n",
    "#Avogadro constant\n",
    "n_a=6.022140857e+23 \n",
    "\n",
    "# The density of water is ~0.997 g/mL at the room temperature, and thus, the weight of 1 L water is ~997 g.\n",
    "# Since the weight of 1 mol H2O is ~18.02 g\n",
    "# e.g. 1 L water is composed of ~3.33 × 10^25 H2O molecules (55.3 mol).\n",
    "n_h20_in_one_liter=3.33E+25 \n",
    "\n",
    "#Desired KCl concentration (mol/L)\n",
    "n_kcl=0.15 \n",
    "\n",
    "#The total number of water molecules\n",
    "n_h20=$(grep '^  Added' leap.log | awk '{print $2}') \n",
    "\n",
    "#The number of solvent molecules in 1 L\n",
    "n_kcl_in_one_liter=$(awk \"BEGIN {print $n_kcl * $n_a; exit}\") \n",
    "\n",
    "#The total number of solvent molecules\n",
    "n0=$(awk \"BEGIN {printf $n_kcl_in_one_liter / $n_h20_in_one_liter * $n_h20; exit}\") \n",
    "n0=${n0%.*}\n",
    "\n",
    "# The system's charge\n",
    "q=$(grep -i \"Total solute charge\" leap.log | awk '{print $4}')\n",
    "\n",
    "# final number of K+ and Cl- to neutralize system and to match the target salt concentration (SLTCAP)\n",
    "n_k=$(echo \"scale=10; $n0 * sqrt(1 + 1 / (2 * $n0)^2) - $q / 2\" | bc)\n",
    "n_cl=$(echo \"scale=10; $n0 * sqrt(1 + 1 / (2 * $n0)^2) + $q / 2\" | bc -l)\n",
    "# rounding Numbers\n",
    "n_k=$(printf '%1.0f' $n_k)\n",
    "n_cl=$(printf '%1.0f' $n_cl)\n",
    "\n",
    "echo $n_k, $n_cl #The number of K and Cl molecules\n",
    "\n",
    "# Editing script\n",
    "\n",
    "cp scripts/creating_box/wo_ions.rc scripts/creating_box/w_ions.rc\n",
    "\n",
    "sed -i \"s/addions mol K+ 0/addions mol K+ ${n_k}/g\" scripts/creating_box/w_ions.rc\n",
    "sed -i \"s/addions mol Cl- 0/addions mol Cl- ${n_cl}/g\" scripts/creating_box/w_ions.rc\n",
    "sed -i \"s/box_wo_kcl/box_kcl/g\" scripts/creating_box/w_ions.rc\n",
    "sed -i \"s/draft_box/solvated_box/g\" scripts/creating_box/w_ions.rc\n",
    "\n",
    "# Starting simulation with new ion settings\n",
    "cd force_field\n",
    "mkdir box_kcl\n",
    "cd ..\n",
    "rm leap.log\n",
    "\n",
    "module load amber24\n",
    "\n",
    "\n",
    "tleap -s -f scripts/creating_box/w_ions.rc # -s: programm will write a .log file; -f: file path\n"
   ]
  },
  {
   "cell_type": "markdown",
   "id": "630ef6dd-6309-4e6b-bf38-ecf2499453dd",
   "metadata": {},
   "source": [
    "## 2.0. Energy minimization and System Equillibration\n",
    "To prevent formation of unusual high in energy structural patterns (e.g. close overlapse of Lennard-Jhonnes atomes) and stabilize the molecule, energy minimization should be performed. In Amber there are two minimization modules: sander and pmemd (see 21. sander in Amber2024) they both require special input file .in.\n",
    "\n",
    "The full process includes 3 main steps*:\n",
    "- Minimization\n",
    "- Heating in a box with a constant value in a thermostat\n",
    "- Relaxation (equillibration) at constnat temperature and constant pressure\n",
    "\n",
    "Heating proccess depends on thermostat choice, which is defined in ntt variable in .in. Here we will be using ntt=1 - weak-coupling \n",
    "algorithm, it rescales total kinetic energy of the system, poured in a heat bath, to match the desired temperature. Note that this approach does not count local thermal changes. Weak-coupling here means that interaction between the structure and the hating bath is being ignored.\n",
    "\n",
    "For big systems like nucleosomes it may be necessary to firstly restrain the molecule (Note the apex of min_1_draft.in and ntr value), although in this tutorial we will remove the restrain.\n",
    "\n",
    "Let's have a look on .in and .sh files \n",
    "\n",
    "*Breefly (https://ambermd.org/tutorials/basic/tutorial14/index.php)"
   ]
  },
  {
   "cell_type": "code",
   "execution_count": null,
   "id": "f67ab6b6-8b77-47d6-8a3f-597f30ace63b",
   "metadata": {
    "tags": []
   },
   "outputs": [],
   "source": [
    "%%bash\n",
    "cd scripts/min_eq\n",
    "cat min_1_draft.in"
   ]
  },
  {
   "cell_type": "markdown",
   "id": "2e9c8c40-216f-4ee2-9039-0f5f54e81dfd",
   "metadata": {},
   "source": [
    "The .in file should be edited before run, i.e. restrains should be deleted "
   ]
  },
  {
   "cell_type": "code",
   "execution_count": null,
   "id": "f7eb0892-5dcb-4267-8ace-61247889589d",
   "metadata": {
    "tags": []
   },
   "outputs": [],
   "source": [
    "%%bash\n",
    "cat scripts/min_eq/min_1.in"
   ]
  },
  {
   "cell_type": "code",
   "execution_count": null,
   "id": "4de22f8d-ef54-462e-9ccc-72b1f6d02570",
   "metadata": {
    "tags": []
   },
   "outputs": [],
   "source": [
    "%%bash\n",
    "\n",
    "cat scripts/min_eq/newton_job_min_1.sh #the script for minimization, in your case it might be necessary to insert GPU, check __FILL__ .sh\n",
    "#creating folders for output\n",
    "mkdir minimization\n",
    "mkdir minimization/min_1"
   ]
  },
  {
   "cell_type": "markdown",
   "id": "0816ef35-0b1f-4180-bee4-4814e5e59cf8",
   "metadata": {},
   "source": [
    "## 2.1. Initial minimization run \n",
    "Let's run the first minimization! "
   ]
  },
  {
   "cell_type": "code",
   "execution_count": null,
   "id": "9be37f48-2b93-4225-88da-7cd30f40ef74",
   "metadata": {
    "tags": []
   },
   "outputs": [],
   "source": [
    "%%bash\n",
    "#chmod +x scripts/min_eq/newton_job_min_1.sh - to make script executive\n",
    "./scripts/min_eq/newton_job_min_1.sh"
   ]
  },
  {
   "cell_type": "markdown",
   "id": "fc83bdf1-e00c-466c-a4cc-8868d490b7b3",
   "metadata": {},
   "source": [
    "## 2.1. Minimization, Heating, and Equilibration\n",
    "Let's have a look on a script, which allows us to run minimization and further heating and equilibration all at once, and run it"
   ]
  },
  {
   "cell_type": "code",
   "execution_count": null,
   "id": "16b0a1bb-33ce-4bfb-be6a-b5bac6581a9d",
   "metadata": {
    "tags": []
   },
   "outputs": [],
   "source": [
    "%%bash\n",
    "#creating folders for output\n",
    "mkdir minimization/min_2\n",
    "mkdir minimization/heat\n",
    "mkdir minimization/equil\n",
    "cat scripts/min_eq/newton_job_min_eq.sh"
   ]
  },
  {
   "cell_type": "code",
   "execution_count": null,
   "id": "fbd76eff-6f9b-485a-b563-4f2750f87995",
   "metadata": {
    "tags": []
   },
   "outputs": [],
   "source": [
    "%%bash \n",
    "#chmod +x scripts/min_eq/newton_job_min_eq.sh\n",
    "./scripts/min_eq/newton_job_min_eq.sh"
   ]
  },
  {
   "cell_type": "markdown",
   "id": "9e8e1edc-271e-4086-833f-dd507bf18a4f",
   "metadata": {},
   "source": [
    "## 2.2. Visualization\n",
    "Let's visualizate the current progress and detect differences between three obtained structures. Firstly rewrite final coordinate file into new .pdb with a use of cpptraj.\n",
    "\n",
    "*Note that output file does not contain information about molecule types (i.g. DNA or protein), that's why you should additionally edit it. See the second cell."
   ]
  },
  {
   "cell_type": "code",
   "execution_count": null,
   "id": "437bc47e-f804-40e0-a625-836a5b26e3fd",
   "metadata": {
    "tags": []
   },
   "outputs": [],
   "source": [
    "!cat scripts/trajectory_processing/pdb_converter.in\n",
    "!module load amber24\n",
    "!mkdir trajectory\n",
    "\n",
    "#making .pdb files from .ncrst\n",
    "for folder in ['min_2',\n",
    "              'heat',\n",
    "              'equil']:\n",
    "    # !rm -rf trajectory/\"$folder\"\n",
    "    !mkdir trajectory/\"$folder\"\n",
    "    !cp scripts/trajectory_processing/pdb_converter.in scripts/trajectory_processing/\"$folder\".in\n",
    "    !cp force_field/box_kcl/solvated_box.prmtop trajectory/\"$folder\"/\"$folder\".prmtop\n",
    "    !sed -i \"s#INITIAL_FILENAME#minimization/$folder/$folder#g\" scripts/trajectory_processing/\"$folder\".in \n",
    "    !sed -i \"s#OUTPUT#trajectory/$folder/$folder#g\" scripts/trajectory_processing/\"$folder\".in \n",
    "    !cpptraj -i scripts/trajectory_processing/\"$folder\".in > scripts/trajectory_processing/cpptraj_\"$folder\".out "
   ]
  },
  {
   "cell_type": "code",
   "execution_count": null,
   "id": "a8c99ed4-a069-41c7-9146-a6f410c8c3e3",
   "metadata": {
    "tags": []
   },
   "outputs": [],
   "source": [
    "import MDAnalysis as mda\n",
    "import numpy as np \n",
    "\n",
    "#editing the output\n",
    "for folder in ['min_2',\n",
    "              'heat',\n",
    "              'equil']:\n",
    "    #!rm minimization/\"$folder\"/sys_\"$folder\".pdb\n",
    "    !mdconvert minimization/\"$folder\"/\"$folder\".pdb -o minimization/\"$folder\"/sys_\"$folder\".pdb\n",
    "    \n",
    "    #note that segid's indexes A,B,C etc. are placed in an alphabet order and may differ from the initial placement\n",
    "    \n",
    "    u = mda.Universe(f'minimization/{folder}/sys_{folder}.pdb')\n",
    "    \n",
    "    #Rescaling of residues' indexes: you can see, that in initial .pdb similar residues have the same index\n",
    "    for seg in u.segments:\n",
    "        if seg.segid == 'A' or seg.segid == 'B':\n",
    "            seg.residues.resids  = np.arange(-(len(seg.residues.resids)//2), len(seg.residues.resids)//2+1) #step ONLY for nucleosomes\n",
    "        else:\n",
    "            seg.residues.resids  = np.arange(1, len(seg.residues.resids)+1) #step for proteins or DNA"
   ]
  },
  {
   "cell_type": "code",
   "execution_count": null,
   "id": "c50c84eb-0e17-43f4-80ff-7d48069fb11f",
   "metadata": {},
   "outputs": [],
   "source": [
    "import nglview as nv\n",
    "min2=nv.show_structure_file('minimization/min_2/sys_min_2.pdb')\n",
    "heat=nv.show_structure_file('minimization/heat/sys_heat.pdb')\n",
    "equil=nv.show_structure_file('minimization/equil/sys_equil.pdb')\n",
    "# a.add_representation(selection='water',repr_type='spacefill',color='red') #molecule in the box\n",
    "min2.render_image()\n",
    "heat.render_image()\n",
    "equil.render_image()\n",
    "min2"
   ]
  },
  {
   "cell_type": "code",
   "execution_count": null,
   "id": "c5b7a692-ce53-413f-8ca3-086974478bd4",
   "metadata": {
    "tags": []
   },
   "outputs": [],
   "source": [
    "heat"
   ]
  },
  {
   "cell_type": "code",
   "execution_count": null,
   "id": "b192d3cb-e4a7-43dd-9eb2-0d40f477d8d0",
   "metadata": {
    "tags": []
   },
   "outputs": [],
   "source": [
    "equil "
   ]
  },
  {
   "cell_type": "markdown",
   "id": "25434147-3e97-4360-8fe8-94de169b1f21",
   "metadata": {
    "tags": []
   },
   "source": [
    "## 3.0. Trajectory\n",
    "Now let's process a trajectory to see the molecule moving!"
   ]
  },
  {
   "cell_type": "code",
   "execution_count": null,
   "id": "54e39068-af4e-45fb-b221-4aa87d83ef55",
   "metadata": {
    "tags": []
   },
   "outputs": [],
   "source": [
    "# Create XTC from NC files \n",
    "## Create run file\n",
    "!module load amber24\n",
    "\n",
    "for folder in ['heat',\n",
    "              'equil']: \n",
    "    !echo \"parm force_field/box_kcl/solvated_box.prmtop\" > trajectory/cpptraj_in.in\n",
    "    !echo \"trajin minimization/{folder}/{folder}.nc\" >> trajectory/cpptraj_in.in\n",
    "    !echo \"trajout trajectory/{folder}/{folder}.nc\" >> trajectory/cpptraj_in.in\n",
    "    !echo \"trajout trajectory/{folder}/{folder}.xtc\" >> trajectory/cpptraj_in.in\n",
    "    !echo \"strip :WAT,K+,Na+,Cl- parmout trajectory/{folder}/{folder}.prmtop\" >> trajectory/cpptraj_in.in\n",
    "    !echo \"autoimage\" >> trajectory/cpptraj_in.in\n",
    "    !echo \"run\" >> trajectory/cpptraj_in.in\n",
    "    !cpptraj -i trajectory/cpptraj_in.in\n",
    " "
   ]
  },
  {
   "cell_type": "code",
   "execution_count": null,
   "id": "8478068a-f5d0-40aa-953a-8f7e36df90df",
   "metadata": {
    "tags": []
   },
   "outputs": [],
   "source": [
    "import MDAnalysis as mda\n",
    "import nglview as nv\n",
    "\n",
    "#Note that starting .pdb file was obtained on a previous step\n",
    "\n",
    "pdb = mda.Universe('minimization/min_2/sys_min_2.pdb', 'trajectory/heat/heat.xtc')\n",
    "nv.show_mdanalysis(pdb)"
   ]
  },
  {
   "cell_type": "code",
   "execution_count": null,
   "id": "ec90d88e-e44f-4f67-bc30-d60a22a79ba1",
   "metadata": {
    "tags": []
   },
   "outputs": [],
   "source": [
    "pdb = mda.Universe('minimization/heat/sys_heat.pdb', 'trajectory/equil/equil.xtc')\n",
    "nv.show_mdanalysis(pdb)"
   ]
  },
  {
   "cell_type": "markdown",
   "id": "df9e974c-4c2f-46f2-8de9-9d5b8dcf264b",
   "metadata": {},
   "source": [
    "## 4.0 Energy\n",
    "Let's obtain energy curves for heating and equilibration. Reminder: in .in script file for heating we "
   ]
  },
  {
   "cell_type": "code",
   "execution_count": null,
   "id": "77b56168-e148-4f66-9c50-d69463051526",
   "metadata": {
    "tags": []
   },
   "outputs": [],
   "source": [
    "#Making an initial .in file for cpptraj\n",
    "\n",
    "!module load amber24\n",
    "\n",
    "for folder in ['heat',\n",
    "              'equil']:\n",
    "    !echo \"parm trajectory/{folder}/{folder}.prmtop\" > trajectory/cpptraj_in_energy_{folder}.in \n",
    "    !echo \"reference minimization/{folder}/sys_{folder}.pdb\" >> trajectory/cpptraj_in_energy_{folder}.in\n",
    "    !echo \"trajin trajectory/{folder}/{folder}.nc\" >> trajectory/cpptraj_in_energy_{folder}.in\n",
    "    !echo \"energy out trajectory/ene_{folder}.txt\" >> trajectory/cpptraj_in_energy_{folder}.in\n",
    "    !cpptraj -i trajectory/cpptraj_in_energy_{folder}.in "
   ]
  },
  {
   "cell_type": "code",
   "execution_count": null,
   "id": "ab33b899-873a-48c4-b3c1-64ea4e328099",
   "metadata": {
    "tags": []
   },
   "outputs": [],
   "source": [
    "import pandas as pd \n",
    "\n",
    "#Visualisation of energy curves\n",
    "#d = pd.DataFrame(np.loadtxt(f'trajectory/ene_equil.txt'), columns = 'Frame   ENE_00002[bond] ENE_00002[angle] ENE_00002[dih] ENE_00002[vdw14] ENE_00002[elec14] ENE_00002[vdw] ENE_00002[elec] ENE_00002[kinetic] ENE_00002[total]'.split())\n",
    "\n",
    "d = pd.DataFrame(np.loadtxt(f'trajectory/ene_heat.txt'), columns = 'Frame   ENE_00002[bond] ENE_00002[angle] ENE_00002[dih] ENE_00002[vdw14] ENE_00002[elec14] ENE_00002[vdw] ENE_00002[elec] ENE_00002[kinetic] ENE_00002[total]'.split())\n",
    "for c in 'ENE_00002[bond] ENE_00002[angle] ENE_00002[dih] ENE_00002[vdw14] ENE_00002[elec14] ENE_00002[vdw] ENE_00002[elec] ENE_00002[kinetic] ENE_00002[total]'.split():\n",
    "    d.loc[:,['Frame',f'{c}']].plot(x = 'Frame', title = 'heat')\n",
    "  \n",
    "\n",
    "\n",
    "d = pd.DataFrame(np.loadtxt(f'trajectory/ene_equil.txt'), columns = 'Frame   ENE_00002[bond] ENE_00002[angle] ENE_00002[dih] ENE_00002[vdw14] ENE_00002[elec14] ENE_00002[vdw] ENE_00002[elec] ENE_00002[total]'.split())\n",
    "\n",
    "for c in 'ENE_00002[bond] ENE_00002[angle] ENE_00002[dih] ENE_00002[vdw14] ENE_00002[elec14] ENE_00002[vdw] ENE_00002[elec] ENE_00002[total]'.split():\n",
    "    d.loc[:,['Frame',f'{c}']].plot(x = 'Frame', title = 'equil')"
   ]
  },
  {
   "cell_type": "markdown",
   "id": "2b8ebfb6-b405-404e-a58a-2d59671f5d77",
   "metadata": {},
   "source": [
    "## 5.0. Accuracy of MD\n",
    "To confirm the accuracy of calculations, made previousely, several checks are required:\n",
    "- Profiles of main MD parameters (temperature, pressure, energies)\n",
    "- Distances between unit cells during simulation in order\n",
    "\n",
    "MD parameters' data can be collected with process_mdout.perl command. It returns a full information about the system (.TEMP, .ETOT, .DENCITY, etc.)\n",
    "\n",
    "Distances between images can be calculated with cpptraj module. Minimage calculates distances between selceted atoms/residues/molecules of two neigbouhring periodic images by default(https://amberhub.chpc.utah.edu/minimage/, https://amberhub.chpc.utah.edu/atom-mask-selection-syntax/). In this tutorial we will calculate distances only for equil.nc, in time-saving purposes."
   ]
  },
  {
   "cell_type": "markdown",
   "id": "201a246a-f2f3-4f98-b08c-2fd1292ff2f7",
   "metadata": {},
   "source": [
    "### 5.1. process_mdout.perl"
   ]
  },
  {
   "cell_type": "code",
   "execution_count": null,
   "id": "5c52178c-6164-470f-b1a4-b11f4942a81b",
   "metadata": {
    "tags": []
   },
   "outputs": [],
   "source": [
    "%%bash\n",
    "#collecting outputs\n",
    "module load amber24\n",
    "\n",
    "mkdir output\n",
    "cd output\n",
    "\n",
    "process_mdout.perl ../minimization/min_2/min_2.out ../minimization/heat/heat.out ../minimization/equil/equil.out"
   ]
  },
  {
   "cell_type": "code",
   "execution_count": null,
   "id": "67aab122-922c-48fa-9048-1372c5c7e8e1",
   "metadata": {
    "tags": []
   },
   "outputs": [],
   "source": [
    "import numpy as np\n",
    "import pandas as pd \n",
    "\n",
    "#Temperature Curve\n",
    "d = pd.DataFrame(np.loadtxt('output/summary.TEMP'), columns = ['time (ps)', 'Temperature (K)'])\n",
    "d.plot(x = 'time (ps)', y = 'Temperature (K)', title='MD Temperature').set_ylabel('Temperature (K)')\n",
    "\n",
    "#Energy curves\n",
    "d1 = pd.DataFrame(np.loadtxt('output/summary.ETOT'), columns = ['time (ps)', 'ETOT']) #Total Energy\n",
    "d2 = pd.DataFrame(np.loadtxt('output/summary.EPTOT'), columns = ['time (ps)', 'EPTOT']) #Total Potintial Energy\n",
    "d3 = pd.DataFrame(np.loadtxt('output/summary.EKTOT'), columns = ['time (ps)', 'EKTOT']) #Total Kinetic Energy\n",
    "d1['EPTOT'] = d2['EPTOT']\n",
    "d1['EKTOT'] = d3['EKTOT']\n",
    "d1.plot(x = 'time (ps)', y = ['ETOT','EPTOT','EKTOT'], title='MD Energy', ylim=(-1500000, 250000)).set_ylabel('Energy (kcal/mol)')\n",
    "\n",
    "#You can visualize each curve separatelly\n",
    "# d1.plot(x = 'time (ps)', y = ['EKTOT'], title='MD Energy').set_ylabel('Energy (kcal/mol)')\n",
    "# d1.plot(x = 'time (ps)', y = ['EPTOT'], title='MD Energy').set_ylabel('Energy (kcal/mol)')\n",
    "# d1.plot(x = 'time (ps)', y = ['ETOT'], title='MD Energy').set_ylabel('Energy (kcal/mol)')\n",
    "\n",
    "#Pressure Curve\n",
    "d = pd.DataFrame(np.loadtxt('output/summary.PRES'), columns = ['time (ps)', 'Pressure (bar)'])\n",
    "d.plot(x = 'time (ps)', y = 'Pressure (bar)', title='MD Pressure').set_ylabel('Pressure (bar)')\n"
   ]
  },
  {
   "cell_type": "markdown",
   "id": "8b131b80-26a0-4757-90fe-1dfce6e7a7bc",
   "metadata": {},
   "source": [
    "### 5.2. minimage\n",
    "Note the 'autoimage' in .in file, it centeres trajectory with .promtop"
   ]
  },
  {
   "cell_type": "code",
   "execution_count": null,
   "id": "016e63c6-319a-4511-be22-02befd624416",
   "metadata": {},
   "outputs": [],
   "source": [
    "!cat scripts/accuracy/minimage_script.in"
   ]
  },
  {
   "cell_type": "code",
   "execution_count": null,
   "id": "3882c0dc-f5f2-40c3-9fa1-439e3b1b8fef",
   "metadata": {
    "tags": []
   },
   "outputs": [],
   "source": [
    "%%bash\n",
    "module load amber24\n",
    "cpptraj -i scripts/accuracy/minimage_script.in -o scripts/accuracy/minimage.out"
   ]
  },
  {
   "cell_type": "code",
   "execution_count": null,
   "id": "c8223005-d5ff-4bcf-80c1-911b707c7e1d",
   "metadata": {
    "tags": []
   },
   "outputs": [],
   "source": [
    "import numpy as np\n",
    "import pandas as pd\n",
    "\n",
    "#Distances between replicas\n",
    "d = np.loadtxt('output/output_min_distance.xvg')\n",
    "data = pd.DataFrame(d, columns = ['Frame', 'Dist', 'A1', 'A2'])\n",
    "data.plot.line(x='Frame', y='Dist', title = 'Distance between replicas',grid=True).set_ylabel('Distance (A)')\n",
    "\n",
    "#Distance deviations between replicas\n",
    "mean = np.mean(d[:,1])\n",
    "s = np.std(d[:,1])\n",
    "for i in range(len(d)):\n",
    "    d[i,1] = abs(d[i,1] - mean) \n",
    "data = pd.DataFrame(d, columns = ['Frame', 'Dist', 'A1', 'A2'])\n",
    "data['std'] = s\n",
    "data.plot.line(x='Frame', y=['Dist', 'std'], title = 'Distance deviation between replicas',grid=True).set_ylabel('Distance (A)')\n"
   ]
  },
  {
   "cell_type": "markdown",
   "id": "2bbcf23d-2efc-4cd5-9712-7a4c03ba6c4f",
   "metadata": {},
   "source": [
    "### 0.0.0. Clear Your Workspace"
   ]
  },
  {
   "cell_type": "code",
   "execution_count": null,
   "id": "49aa6534-90eb-4f88-849e-a719e106f895",
   "metadata": {},
   "outputs": [],
   "source": [
    "!rm -rf prep\n",
    "!rm scripts/creating_box/w_ions.rc\n",
    "!rm leap.log\n",
    "!rm -rf force_field\n",
    "!rm -rf trajectory\n",
    "!rm -rf output\n",
    "for folder in ['min_1'\n",
    "              'min_2',\n",
    "              'heat',\n",
    "              'equil']:\n",
    "    !rm -rf minimization/\"$folder\"\n",
    "    !mkdir minimization/\"$folder\"\"\n"
   ]
  }
 ],
 "metadata": {
  "kernelspec": {
   "display_name": "moldyn",
   "language": "python",
   "name": "conda-env-moldyn-py"
  },
  "language_info": {
   "codemirror_mode": {
    "name": "ipython",
    "version": 3
   },
   "file_extension": ".py",
   "mimetype": "text/x-python",
   "name": "python",
   "nbconvert_exporter": "python",
   "pygments_lexer": "ipython3",
   "version": "3.7.3"
  }
 },
 "nbformat": 4,
 "nbformat_minor": 5
}
